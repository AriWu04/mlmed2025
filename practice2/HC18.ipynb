{
  "cells": [
    {
      "cell_type": "code",
      "execution_count": null,
      "metadata": {
        "colab": {
          "base_uri": "https://localhost:8080/"
        },
        "id": "Aa6xRnrNpI4X",
        "outputId": "6a54fb29-6035-44b6-c47f-260ee6c3bb26"
      },
      "outputs": [
        {
          "name": "stdout",
          "output_type": "stream",
          "text": [
            "Requirement already satisfied: tensorflow in /usr/local/lib/python3.11/dist-packages (2.18.0)\n",
            "Requirement already satisfied: absl-py>=1.0.0 in /usr/local/lib/python3.11/dist-packages (from tensorflow) (1.4.0)\n",
            "Requirement already satisfied: astunparse>=1.6.0 in /usr/local/lib/python3.11/dist-packages (from tensorflow) (1.6.3)\n",
            "Requirement already satisfied: flatbuffers>=24.3.25 in /usr/local/lib/python3.11/dist-packages (from tensorflow) (25.2.10)\n",
            "Requirement already satisfied: gast!=0.5.0,!=0.5.1,!=0.5.2,>=0.2.1 in /usr/local/lib/python3.11/dist-packages (from tensorflow) (0.6.0)\n",
            "Requirement already satisfied: google-pasta>=0.1.1 in /usr/local/lib/python3.11/dist-packages (from tensorflow) (0.2.0)\n",
            "Requirement already satisfied: libclang>=13.0.0 in /usr/local/lib/python3.11/dist-packages (from tensorflow) (18.1.1)\n",
            "Requirement already satisfied: opt-einsum>=2.3.2 in /usr/local/lib/python3.11/dist-packages (from tensorflow) (3.4.0)\n",
            "Requirement already satisfied: packaging in /usr/local/lib/python3.11/dist-packages (from tensorflow) (24.2)\n",
            "Requirement already satisfied: protobuf!=4.21.0,!=4.21.1,!=4.21.2,!=4.21.3,!=4.21.4,!=4.21.5,<6.0.0dev,>=3.20.3 in /usr/local/lib/python3.11/dist-packages (from tensorflow) (4.25.6)\n",
            "Requirement already satisfied: requests<3,>=2.21.0 in /usr/local/lib/python3.11/dist-packages (from tensorflow) (2.32.3)\n",
            "Requirement already satisfied: setuptools in /usr/local/lib/python3.11/dist-packages (from tensorflow) (75.1.0)\n",
            "Requirement already satisfied: six>=1.12.0 in /usr/local/lib/python3.11/dist-packages (from tensorflow) (1.17.0)\n",
            "Requirement already satisfied: termcolor>=1.1.0 in /usr/local/lib/python3.11/dist-packages (from tensorflow) (2.5.0)\n",
            "Requirement already satisfied: typing-extensions>=3.6.6 in /usr/local/lib/python3.11/dist-packages (from tensorflow) (4.12.2)\n",
            "Requirement already satisfied: wrapt>=1.11.0 in /usr/local/lib/python3.11/dist-packages (from tensorflow) (1.17.2)\n",
            "Requirement already satisfied: grpcio<2.0,>=1.24.3 in /usr/local/lib/python3.11/dist-packages (from tensorflow) (1.70.0)\n",
            "Requirement already satisfied: tensorboard<2.19,>=2.18 in /usr/local/lib/python3.11/dist-packages (from tensorflow) (2.18.0)\n",
            "Requirement already satisfied: keras>=3.5.0 in /usr/local/lib/python3.11/dist-packages (from tensorflow) (3.8.0)\n",
            "Requirement already satisfied: numpy<2.1.0,>=1.26.0 in /usr/local/lib/python3.11/dist-packages (from tensorflow) (1.26.4)\n",
            "Requirement already satisfied: h5py>=3.11.0 in /usr/local/lib/python3.11/dist-packages (from tensorflow) (3.12.1)\n",
            "Requirement already satisfied: ml-dtypes<0.5.0,>=0.4.0 in /usr/local/lib/python3.11/dist-packages (from tensorflow) (0.4.1)\n",
            "Requirement already satisfied: tensorflow-io-gcs-filesystem>=0.23.1 in /usr/local/lib/python3.11/dist-packages (from tensorflow) (0.37.1)\n",
            "Requirement already satisfied: wheel<1.0,>=0.23.0 in /usr/local/lib/python3.11/dist-packages (from astunparse>=1.6.0->tensorflow) (0.45.1)\n",
            "Requirement already satisfied: rich in /usr/local/lib/python3.11/dist-packages (from keras>=3.5.0->tensorflow) (13.9.4)\n",
            "Requirement already satisfied: namex in /usr/local/lib/python3.11/dist-packages (from keras>=3.5.0->tensorflow) (0.0.8)\n",
            "Requirement already satisfied: optree in /usr/local/lib/python3.11/dist-packages (from keras>=3.5.0->tensorflow) (0.14.1)\n",
            "Requirement already satisfied: charset-normalizer<4,>=2 in /usr/local/lib/python3.11/dist-packages (from requests<3,>=2.21.0->tensorflow) (3.4.1)\n",
            "Requirement already satisfied: idna<4,>=2.5 in /usr/local/lib/python3.11/dist-packages (from requests<3,>=2.21.0->tensorflow) (3.10)\n",
            "Requirement already satisfied: urllib3<3,>=1.21.1 in /usr/local/lib/python3.11/dist-packages (from requests<3,>=2.21.0->tensorflow) (2.3.0)\n",
            "Requirement already satisfied: certifi>=2017.4.17 in /usr/local/lib/python3.11/dist-packages (from requests<3,>=2.21.0->tensorflow) (2025.1.31)\n",
            "Requirement already satisfied: markdown>=2.6.8 in /usr/local/lib/python3.11/dist-packages (from tensorboard<2.19,>=2.18->tensorflow) (3.7)\n",
            "Requirement already satisfied: tensorboard-data-server<0.8.0,>=0.7.0 in /usr/local/lib/python3.11/dist-packages (from tensorboard<2.19,>=2.18->tensorflow) (0.7.2)\n",
            "Requirement already satisfied: werkzeug>=1.0.1 in /usr/local/lib/python3.11/dist-packages (from tensorboard<2.19,>=2.18->tensorflow) (3.1.3)\n",
            "Requirement already satisfied: MarkupSafe>=2.1.1 in /usr/local/lib/python3.11/dist-packages (from werkzeug>=1.0.1->tensorboard<2.19,>=2.18->tensorflow) (3.0.2)\n",
            "Requirement already satisfied: markdown-it-py>=2.2.0 in /usr/local/lib/python3.11/dist-packages (from rich->keras>=3.5.0->tensorflow) (3.0.0)\n",
            "Requirement already satisfied: pygments<3.0.0,>=2.13.0 in /usr/local/lib/python3.11/dist-packages (from rich->keras>=3.5.0->tensorflow) (2.18.0)\n",
            "Requirement already satisfied: mdurl~=0.1 in /usr/local/lib/python3.11/dist-packages (from markdown-it-py>=2.2.0->rich->keras>=3.5.0->tensorflow) (0.1.2)\n"
          ]
        }
      ],
      "source": [
        "!pip install tensorflow"
      ]
    },
    {
      "cell_type": "code",
      "execution_count": null,
      "metadata": {
        "id": "H0XVG1ulYbam"
      },
      "outputs": [],
      "source": [
        "import cv2\n",
        "import os\n",
        "import matplotlib.pyplot as plt\n",
        "import pandas as pd\n",
        "import numpy as np\n",
        "\n",
        "import tensorflow as tf\n",
        "from tensorflow.keras import layers, models"
      ]
    },
    {
      "cell_type": "code",
      "execution_count": null,
      "metadata": {
        "id": "zjEtwnMrYeSA"
      },
      "outputs": [],
      "source": []
    },
    {
      "cell_type": "markdown",
      "metadata": {
        "id": "fVabpqscIjJP"
      },
      "source": [
        "### **Dataset-Filling Annotation**"
      ]
    },
    {
      "cell_type": "code",
      "execution_count": null,
      "metadata": {
        "colab": {
          "base_uri": "https://localhost:8080/",
          "height": 206
        },
        "id": "l2QgdZiQMDSR",
        "outputId": "3924de2c-cab3-4357-afdb-e5b4015f7c52"
      },
      "outputs": [
        {
          "data": {
            "application/vnd.google.colaboratory.intrinsic+json": {
              "summary": "{\n  \"name\": \"# This Dataframe will be used to extract image names hence by doing image_name + '_Annotation' we will get annotation names\",\n  \"rows\": 5,\n  \"fields\": [\n    {\n      \"column\": \"filename\",\n      \"properties\": {\n        \"dtype\": \"string\",\n        \"num_unique_values\": 5,\n        \"samples\": [\n          \"001_HC.png\",\n          \"004_HC.png\",\n          \"002_HC.png\"\n        ],\n        \"semantic_type\": \"\",\n        \"description\": \"\"\n      }\n    },\n    {\n      \"column\": \"pixel size(mm)\",\n      \"properties\": {\n        \"dtype\": \"number\",\n        \"std\": 0.014761607904144797,\n        \"min\": 0.0612398400539,\n        \"max\": 0.0912911675193,\n        \"num_unique_values\": 5,\n        \"samples\": [\n          0.0896585200514,\n          0.0612398400539,\n          0.062032562715\n        ],\n        \"semantic_type\": \"\",\n        \"description\": \"\"\n      }\n    },\n    {\n      \"column\": \"head circumference (mm)\",\n      \"properties\": {\n        \"dtype\": \"number\",\n        \"std\": 10.172400405017491,\n        \"min\": 44.3,\n        \"max\": 69.0,\n        \"num_unique_values\": 5,\n        \"samples\": [\n          56.81,\n          59.81,\n          68.75\n        ],\n        \"semantic_type\": \"\",\n        \"description\": \"\"\n      }\n    }\n  ]\n}",
              "type": "dataframe"
            },
            "text/html": [
              "\n",
              "  <div id=\"df-657cf3aa-929b-41bc-9743-1b0dfef47a4e\" class=\"colab-df-container\">\n",
              "    <div>\n",
              "<style scoped>\n",
              "    .dataframe tbody tr th:only-of-type {\n",
              "        vertical-align: middle;\n",
              "    }\n",
              "\n",
              "    .dataframe tbody tr th {\n",
              "        vertical-align: top;\n",
              "    }\n",
              "\n",
              "    .dataframe thead th {\n",
              "        text-align: right;\n",
              "    }\n",
              "</style>\n",
              "<table border=\"1\" class=\"dataframe\">\n",
              "  <thead>\n",
              "    <tr style=\"text-align: right;\">\n",
              "      <th></th>\n",
              "      <th>filename</th>\n",
              "      <th>pixel size(mm)</th>\n",
              "      <th>head circumference (mm)</th>\n",
              "    </tr>\n",
              "  </thead>\n",
              "  <tbody>\n",
              "    <tr>\n",
              "      <th>0</th>\n",
              "      <td>000_HC.png</td>\n",
              "      <td>0.069136</td>\n",
              "      <td>44.30</td>\n",
              "    </tr>\n",
              "    <tr>\n",
              "      <th>1</th>\n",
              "      <td>001_HC.png</td>\n",
              "      <td>0.089659</td>\n",
              "      <td>56.81</td>\n",
              "    </tr>\n",
              "    <tr>\n",
              "      <th>2</th>\n",
              "      <td>002_HC.png</td>\n",
              "      <td>0.062033</td>\n",
              "      <td>68.75</td>\n",
              "    </tr>\n",
              "    <tr>\n",
              "      <th>3</th>\n",
              "      <td>003_HC.png</td>\n",
              "      <td>0.091291</td>\n",
              "      <td>69.00</td>\n",
              "    </tr>\n",
              "    <tr>\n",
              "      <th>4</th>\n",
              "      <td>004_HC.png</td>\n",
              "      <td>0.061240</td>\n",
              "      <td>59.81</td>\n",
              "    </tr>\n",
              "  </tbody>\n",
              "</table>\n",
              "</div>\n",
              "    <div class=\"colab-df-buttons\">\n",
              "\n",
              "  <div class=\"colab-df-container\">\n",
              "    <button class=\"colab-df-convert\" onclick=\"convertToInteractive('df-657cf3aa-929b-41bc-9743-1b0dfef47a4e')\"\n",
              "            title=\"Convert this dataframe to an interactive table.\"\n",
              "            style=\"display:none;\">\n",
              "\n",
              "  <svg xmlns=\"http://www.w3.org/2000/svg\" height=\"24px\" viewBox=\"0 -960 960 960\">\n",
              "    <path d=\"M120-120v-720h720v720H120Zm60-500h600v-160H180v160Zm220 220h160v-160H400v160Zm0 220h160v-160H400v160ZM180-400h160v-160H180v160Zm440 0h160v-160H620v160ZM180-180h160v-160H180v160Zm440 0h160v-160H620v160Z\"/>\n",
              "  </svg>\n",
              "    </button>\n",
              "\n",
              "  <style>\n",
              "    .colab-df-container {\n",
              "      display:flex;\n",
              "      gap: 12px;\n",
              "    }\n",
              "\n",
              "    .colab-df-convert {\n",
              "      background-color: #E8F0FE;\n",
              "      border: none;\n",
              "      border-radius: 50%;\n",
              "      cursor: pointer;\n",
              "      display: none;\n",
              "      fill: #1967D2;\n",
              "      height: 32px;\n",
              "      padding: 0 0 0 0;\n",
              "      width: 32px;\n",
              "    }\n",
              "\n",
              "    .colab-df-convert:hover {\n",
              "      background-color: #E2EBFA;\n",
              "      box-shadow: 0px 1px 2px rgba(60, 64, 67, 0.3), 0px 1px 3px 1px rgba(60, 64, 67, 0.15);\n",
              "      fill: #174EA6;\n",
              "    }\n",
              "\n",
              "    .colab-df-buttons div {\n",
              "      margin-bottom: 4px;\n",
              "    }\n",
              "\n",
              "    [theme=dark] .colab-df-convert {\n",
              "      background-color: #3B4455;\n",
              "      fill: #D2E3FC;\n",
              "    }\n",
              "\n",
              "    [theme=dark] .colab-df-convert:hover {\n",
              "      background-color: #434B5C;\n",
              "      box-shadow: 0px 1px 3px 1px rgba(0, 0, 0, 0.15);\n",
              "      filter: drop-shadow(0px 1px 2px rgba(0, 0, 0, 0.3));\n",
              "      fill: #FFFFFF;\n",
              "    }\n",
              "  </style>\n",
              "\n",
              "    <script>\n",
              "      const buttonEl =\n",
              "        document.querySelector('#df-657cf3aa-929b-41bc-9743-1b0dfef47a4e button.colab-df-convert');\n",
              "      buttonEl.style.display =\n",
              "        google.colab.kernel.accessAllowed ? 'block' : 'none';\n",
              "\n",
              "      async function convertToInteractive(key) {\n",
              "        const element = document.querySelector('#df-657cf3aa-929b-41bc-9743-1b0dfef47a4e');\n",
              "        const dataTable =\n",
              "          await google.colab.kernel.invokeFunction('convertToInteractive',\n",
              "                                                    [key], {});\n",
              "        if (!dataTable) return;\n",
              "\n",
              "        const docLinkHtml = 'Like what you see? Visit the ' +\n",
              "          '<a target=\"_blank\" href=https://colab.research.google.com/notebooks/data_table.ipynb>data table notebook</a>'\n",
              "          + ' to learn more about interactive tables.';\n",
              "        element.innerHTML = '';\n",
              "        dataTable['output_type'] = 'display_data';\n",
              "        await google.colab.output.renderOutput(dataTable, element);\n",
              "        const docLink = document.createElement('div');\n",
              "        docLink.innerHTML = docLinkHtml;\n",
              "        element.appendChild(docLink);\n",
              "      }\n",
              "    </script>\n",
              "  </div>\n",
              "\n",
              "\n",
              "<div id=\"df-6b0a5b24-9d59-41d9-8ce1-18d562aba53c\">\n",
              "  <button class=\"colab-df-quickchart\" onclick=\"quickchart('df-6b0a5b24-9d59-41d9-8ce1-18d562aba53c')\"\n",
              "            title=\"Suggest charts\"\n",
              "            style=\"display:none;\">\n",
              "\n",
              "<svg xmlns=\"http://www.w3.org/2000/svg\" height=\"24px\"viewBox=\"0 0 24 24\"\n",
              "     width=\"24px\">\n",
              "    <g>\n",
              "        <path d=\"M19 3H5c-1.1 0-2 .9-2 2v14c0 1.1.9 2 2 2h14c1.1 0 2-.9 2-2V5c0-1.1-.9-2-2-2zM9 17H7v-7h2v7zm4 0h-2V7h2v10zm4 0h-2v-4h2v4z\"/>\n",
              "    </g>\n",
              "</svg>\n",
              "  </button>\n",
              "\n",
              "<style>\n",
              "  .colab-df-quickchart {\n",
              "      --bg-color: #E8F0FE;\n",
              "      --fill-color: #1967D2;\n",
              "      --hover-bg-color: #E2EBFA;\n",
              "      --hover-fill-color: #174EA6;\n",
              "      --disabled-fill-color: #AAA;\n",
              "      --disabled-bg-color: #DDD;\n",
              "  }\n",
              "\n",
              "  [theme=dark] .colab-df-quickchart {\n",
              "      --bg-color: #3B4455;\n",
              "      --fill-color: #D2E3FC;\n",
              "      --hover-bg-color: #434B5C;\n",
              "      --hover-fill-color: #FFFFFF;\n",
              "      --disabled-bg-color: #3B4455;\n",
              "      --disabled-fill-color: #666;\n",
              "  }\n",
              "\n",
              "  .colab-df-quickchart {\n",
              "    background-color: var(--bg-color);\n",
              "    border: none;\n",
              "    border-radius: 50%;\n",
              "    cursor: pointer;\n",
              "    display: none;\n",
              "    fill: var(--fill-color);\n",
              "    height: 32px;\n",
              "    padding: 0;\n",
              "    width: 32px;\n",
              "  }\n",
              "\n",
              "  .colab-df-quickchart:hover {\n",
              "    background-color: var(--hover-bg-color);\n",
              "    box-shadow: 0 1px 2px rgba(60, 64, 67, 0.3), 0 1px 3px 1px rgba(60, 64, 67, 0.15);\n",
              "    fill: var(--button-hover-fill-color);\n",
              "  }\n",
              "\n",
              "  .colab-df-quickchart-complete:disabled,\n",
              "  .colab-df-quickchart-complete:disabled:hover {\n",
              "    background-color: var(--disabled-bg-color);\n",
              "    fill: var(--disabled-fill-color);\n",
              "    box-shadow: none;\n",
              "  }\n",
              "\n",
              "  .colab-df-spinner {\n",
              "    border: 2px solid var(--fill-color);\n",
              "    border-color: transparent;\n",
              "    border-bottom-color: var(--fill-color);\n",
              "    animation:\n",
              "      spin 1s steps(1) infinite;\n",
              "  }\n",
              "\n",
              "  @keyframes spin {\n",
              "    0% {\n",
              "      border-color: transparent;\n",
              "      border-bottom-color: var(--fill-color);\n",
              "      border-left-color: var(--fill-color);\n",
              "    }\n",
              "    20% {\n",
              "      border-color: transparent;\n",
              "      border-left-color: var(--fill-color);\n",
              "      border-top-color: var(--fill-color);\n",
              "    }\n",
              "    30% {\n",
              "      border-color: transparent;\n",
              "      border-left-color: var(--fill-color);\n",
              "      border-top-color: var(--fill-color);\n",
              "      border-right-color: var(--fill-color);\n",
              "    }\n",
              "    40% {\n",
              "      border-color: transparent;\n",
              "      border-right-color: var(--fill-color);\n",
              "      border-top-color: var(--fill-color);\n",
              "    }\n",
              "    60% {\n",
              "      border-color: transparent;\n",
              "      border-right-color: var(--fill-color);\n",
              "    }\n",
              "    80% {\n",
              "      border-color: transparent;\n",
              "      border-right-color: var(--fill-color);\n",
              "      border-bottom-color: var(--fill-color);\n",
              "    }\n",
              "    90% {\n",
              "      border-color: transparent;\n",
              "      border-bottom-color: var(--fill-color);\n",
              "    }\n",
              "  }\n",
              "</style>\n",
              "\n",
              "  <script>\n",
              "    async function quickchart(key) {\n",
              "      const quickchartButtonEl =\n",
              "        document.querySelector('#' + key + ' button');\n",
              "      quickchartButtonEl.disabled = true;  // To prevent multiple clicks.\n",
              "      quickchartButtonEl.classList.add('colab-df-spinner');\n",
              "      try {\n",
              "        const charts = await google.colab.kernel.invokeFunction(\n",
              "            'suggestCharts', [key], {});\n",
              "      } catch (error) {\n",
              "        console.error('Error during call to suggestCharts:', error);\n",
              "      }\n",
              "      quickchartButtonEl.classList.remove('colab-df-spinner');\n",
              "      quickchartButtonEl.classList.add('colab-df-quickchart-complete');\n",
              "    }\n",
              "    (() => {\n",
              "      let quickchartButtonEl =\n",
              "        document.querySelector('#df-6b0a5b24-9d59-41d9-8ce1-18d562aba53c button');\n",
              "      quickchartButtonEl.style.display =\n",
              "        google.colab.kernel.accessAllowed ? 'block' : 'none';\n",
              "    })();\n",
              "  </script>\n",
              "</div>\n",
              "\n",
              "    </div>\n",
              "  </div>\n"
            ],
            "text/plain": [
              "     filename  pixel size(mm)  head circumference (mm)\n",
              "0  000_HC.png        0.069136                    44.30\n",
              "1  001_HC.png        0.089659                    56.81\n",
              "2  002_HC.png        0.062033                    68.75\n",
              "3  003_HC.png        0.091291                    69.00\n",
              "4  004_HC.png        0.061240                    59.81"
            ]
          },
          "execution_count": 3,
          "metadata": {},
          "output_type": "execute_result"
        }
      ],
      "source": [
        "train_pixel_file = pd.read_csv('/content/drive/MyDrive/MLinMed/Data/Practice2/training_set_pixel_size_and_HC.csv')\n",
        "train_pixel_file.head()"
      ]
    },
    {
      "cell_type": "code",
      "execution_count": null,
      "metadata": {
        "id": "pwc0njSy7wLO"
      },
      "outputs": [],
      "source": [
        "# Takes annotation and spits out corresponding mask\n",
        "def masking(image):\n",
        "    imgray = cv2.cvtColor(image, cv2.COLOR_BGR2GRAY)\n",
        "    ret, thresh = cv2.threshold(imgray, 127, 255, 0)\n",
        "    # useless0,contours, useless1 = cv2.findContours(thresh, cv2.RETR_TREE, cv2.CHAIN_APPROX_SIMPLE)\n",
        "    # For OpenCV 4.x, findContours returns only 2 values: contours and hierarchy\n",
        "    contours, hierarchy = cv2.findContours(thresh, cv2.RETR_TREE, cv2.CHAIN_APPROX_SIMPLE)\n",
        "    ellipse = cv2.fitEllipse(contours[0])\n",
        "    # Create a mask image and draw the ellipse\n",
        "    mask_image = np.zeros_like(image)  # Create a black mask image with the same shape as the input\n",
        "    return cv2.ellipse(mask_image, ellipse, (255,255,255), -1)"
      ]
    },
    {
      "cell_type": "code",
      "execution_count": null,
      "metadata": {
        "colab": {
          "base_uri": "https://localhost:8080/",
          "height": 455
        },
        "id": "MaWoHo2uXKrr",
        "outputId": "9e125285-0b52-4461-8be6-947c307a42b8"
      },
      "outputs": [
        {
          "name": "stdout",
          "output_type": "stream",
          "text": [
            "/content/drive/MyDrive/MLinMed/Data/Practice2/training_set/000_HC_Annotation.png\n",
            "/content/drive/MyDrive/MLinMed/Data/Practice2/training_set/001_HC_Annotation.png\n",
            "/content/drive/MyDrive/MLinMed/Data/Practice2/training_set/002_HC_Annotation.png\n",
            "/content/drive/MyDrive/MLinMed/Data/Practice2/training_set/003_HC_Annotation.png\n",
            "/content/drive/MyDrive/MLinMed/Data/Practice2/training_set/004_HC_Annotation.png\n",
            "/content/drive/MyDrive/MLinMed/Data/Practice2/training_set/005_HC_Annotation.png\n",
            "/content/drive/MyDrive/MLinMed/Data/Practice2/training_set/006_HC_Annotation.png\n"
          ]
        },
        {
          "data": {
            "image/png": "[encoded data removed]",
            "text/plain": [
              "<Figure size 3000x700 with 14 Axes>"
            ]
          },
          "metadata": {},
          "output_type": "display_data"
        }
      ],
      "source": [
        "# to check if our masking function is working correctly\n",
        "fig = plt.figure(figsize = (30,7))\n",
        "for index in range(7):\n",
        "  file_path = os.path.join('/content/drive/MyDrive/MLinMed/Data/Practice2/training_set', train_pixel_file.iloc[index, 0].replace('.png','_Annotation.png'))\n",
        "  print(file_path)\n",
        "  ax = fig.add_subplot(2, 7, index+1)             ## annoted plot\n",
        "  plt.imshow(cv2.imread(file_path))\n",
        "\n",
        "  ax = fig.add_subplot(2, 7, index+8)\n",
        "  plt.imshow(masking(cv2.imread(file_path)))        ## mask plot"
      ]
    },
    {
      "cell_type": "code",
      "execution_count": null,
      "metadata": {
        "id": "KDfCwlA2-gEm"
      },
      "outputs": [],
      "source": [
        "# # Loop through training set and  take annotations one by one and replace them with corresponding masks\n",
        "# for index in range(len(train_pixel_file)):\n",
        "#     file_path = os.path.join('/content/drive/MyDrive/MLinMed/Data/Practice2/training_set', train_pixel_file.iloc[index, 0].replace('.png','_Annotation.png'))\n",
        "#     image = cv2.imread(file_path)\n",
        "#     mask = masking(image)\n",
        "\n",
        "#     # Generate a new filename for the mask\n",
        "#     new_file_path = file_path.replace('_Annotation.png', '_Mask.png')\n",
        "\n",
        "#     # Save the mask with the new filename\n",
        "#     cv2.imwrite(new_file_path, mask)"
      ]
    },
    {
      "cell_type": "markdown",
      "metadata": {
        "id": "tqIA9tX5oz_2"
      },
      "source": [
        "### **Model**"
      ]
    },
    {
      "cell_type": "code",
      "execution_count": null,
      "metadata": {
        "id": "5mo1nqVKo3CA"
      },
      "outputs": [],
      "source": [
        "# Define image size\n",
        "IMG_SIZE = (256, 256)\n",
        "\n",
        "# Function to load and preprocess images and masks\n",
        "def load_data(image_folder):\n",
        "    images = []\n",
        "    masks = []\n",
        "\n",
        "    for file in os.listdir(image_folder):\n",
        "        if file.endswith(\"_HC.png\"):\n",
        "            img_path = os.path.join(image_folder, file)\n",
        "            mask_path = os.path.join(image_folder, file.replace(\"_HC.png\", \"_HC_Mask.png\"))\n",
        "\n",
        "            if os.path.exists(mask_path):\n",
        "                image = cv2.imread(img_path, cv2.IMREAD_GRAYSCALE)\n",
        "                image = cv2.resize(image, IMG_SIZE)\n",
        "                image = image.astype(np.float32) / 255.0  # Normalize\n",
        "                image = np.expand_dims(image, axis=-1)  # Add channel dimension\n",
        "\n",
        "                mask = cv2.imread(mask_path, cv2.IMREAD_GRAYSCALE)\n",
        "                mask = cv2.resize(mask, IMG_SIZE)\n",
        "                mask = (mask > 0).astype(np.uint8)  # Convert to binary mask\n",
        "                mask = np.expand_dims(mask, axis=-1)  # Add channel dimension\n",
        "\n",
        "                images.append(image)\n",
        "                masks.append(mask)\n",
        "\n",
        "    return np.array(images), np.array(masks)"
      ]
    },
    {
      "cell_type": "code",
      "execution_count": null,
      "metadata": {
        "id": "WQt4kDWOsGTS"
      },
      "outputs": [],
      "source": [
        "# Define U-Net Model\n",
        "def build_unet_model(input_shape=(256, 256, 1)):\n",
        "    inputs = layers.Input(shape=input_shape)\n",
        "\n",
        "    # Encoder\n",
        "    c1 = layers.Conv2D(32, (3,3), activation='relu', padding='same')(inputs)\n",
        "    c1 = layers.Conv2D(32, (3,3), activation='relu', padding='same')(c1)\n",
        "    p1 = layers.MaxPooling2D((2,2))(c1)\n",
        "\n",
        "    c2 = layers.Conv2D(64, (3,3), activation='relu', padding='same')(p1)\n",
        "    c2 = layers.Conv2D(64, (3,3), activation='relu', padding='same')(c2)\n",
        "    p2 = layers.MaxPooling2D((2,2))(c2)\n",
        "\n",
        "    c3 = layers.Conv2D(128, (3,3), activation='relu', padding='same')(p2)\n",
        "    c3 = layers.Conv2D(128, (3,3), activation='relu', padding='same')(c3)\n",
        "    p3 = layers.MaxPooling2D((2,2))(c3)\n",
        "\n",
        "    # Bottleneck\n",
        "    c4 = layers.Conv2D(256, (3,3), activation='relu', padding='same')(p3)\n",
        "    c4 = layers.Conv2D(256, (3,3), activation='relu', padding='same')(c4)\n",
        "\n",
        "    # Decoder\n",
        "    u5 = layers.UpSampling2D((2,2))(c4)\n",
        "    u5 = layers.Conv2D(128, (3,3), activation='relu', padding='same')(u5)\n",
        "    c5 = layers.Conv2D(128, (3,3), activation='relu', padding='same')(u5)\n",
        "\n",
        "    u6 = layers.UpSampling2D((2,2))(c5)\n",
        "    u6 = layers.Conv2D(64, (3,3), activation='relu', padding='same')(u6)\n",
        "    c6 = layers.Conv2D(64, (3,3), activation='relu', padding='same')(u6)\n",
        "\n",
        "    u7 = layers.UpSampling2D((2,2))(c6)\n",
        "    u7 = layers.Conv2D(32, (3,3), activation='relu', padding='same')(u7)\n",
        "    c7 = layers.Conv2D(32, (3,3), activation='relu', padding='same')(u7)\n",
        "\n",
        "    outputs = layers.Conv2D(1, (1,1), activation='sigmoid')(c7)\n",
        "\n",
        "    model = models.Model(inputs, outputs)\n",
        "    return model"
      ]
    },
    {
      "cell_type": "code",
      "execution_count": null,
      "metadata": {
        "colab": {
          "base_uri": "https://localhost:8080/"
        },
        "id": "B900uPTksIKF",
        "outputId": "b501c9db-4322-4082-ddc9-906c4ff14e7a"
      },
      "outputs": [
        {
          "name": "stdout",
          "output_type": "stream",
          "text": [
            "Epoch 1/20\n",
            "\u001b[1m322/322\u001b[0m \u001b[32m━━━━━━━━━━━━━━━━━━━━\u001b[0m\u001b[37m\u001b[0m \u001b[1m705s\u001b[0m 2s/step - loss: 0.5628 - mae: 0.3832 - val_loss: 0.3040 - val_mae: 0.2045\n",
            "Epoch 2/20\n",
            "\u001b[1m322/322\u001b[0m \u001b[32m━━━━━━━━━━━━━━━━━━━━\u001b[0m\u001b[37m\u001b[0m \u001b[1m749s\u001b[0m 2s/step - loss: 0.3388 - mae: 0.2205 - val_loss: 0.3048 - val_mae: 0.1930\n",
            "Epoch 3/20\n",
            "\u001b[1m322/322\u001b[0m \u001b[32m━━━━━━━━━━━━━━━━━━━━\u001b[0m\u001b[37m\u001b[0m \u001b[1m742s\u001b[0m 2s/step - loss: 0.3192 - mae: 0.2074 - val_loss: 0.2737 - val_mae: 0.1779\n",
            "Epoch 4/20\n",
            "\u001b[1m322/322\u001b[0m \u001b[32m━━━━━━━━━━━━━━━━━━━━\u001b[0m\u001b[37m\u001b[0m \u001b[1m735s\u001b[0m 2s/step - loss: 0.2916 - mae: 0.1884 - val_loss: 0.2429 - val_mae: 0.1753\n",
            "Epoch 5/20\n",
            "\u001b[1m322/322\u001b[0m \u001b[32m━━━━━━━━━━━━━━━━━━━━\u001b[0m\u001b[37m\u001b[0m \u001b[1m746s\u001b[0m 2s/step - loss: 0.2350 - mae: 0.1475 - val_loss: 0.1273 - val_mae: 0.0731\n",
            "Epoch 6/20\n",
            "\u001b[1m322/322\u001b[0m \u001b[32m━━━━━━━━━━━━━━━━━━━━\u001b[0m\u001b[37m\u001b[0m \u001b[1m737s\u001b[0m 2s/step - loss: 0.1566 - mae: 0.0937 - val_loss: 0.0824 - val_mae: 0.0431\n",
            "Epoch 7/20\n",
            "\u001b[1m322/322\u001b[0m \u001b[32m━━━━━━━━━━━━━━━━━━━━\u001b[0m\u001b[37m\u001b[0m \u001b[1m738s\u001b[0m 2s/step - loss: 0.1254 - mae: 0.0736 - val_loss: 0.0743 - val_mae: 0.0495\n",
            "Epoch 8/20\n",
            "\u001b[1m322/322\u001b[0m \u001b[32m━━━━━━━━━━━━━━━━━━━━\u001b[0m\u001b[37m\u001b[0m \u001b[1m744s\u001b[0m 2s/step - loss: 0.1076 - mae: 0.0644 - val_loss: 0.0671 - val_mae: 0.0411\n",
            "Epoch 9/20\n",
            "\u001b[1m322/322\u001b[0m \u001b[32m━━━━━━━━━━━━━━━━━━━━\u001b[0m\u001b[37m\u001b[0m \u001b[1m735s\u001b[0m 2s/step - loss: 0.0954 - mae: 0.0578 - val_loss: 0.0619 - val_mae: 0.0319\n",
            "Epoch 10/20\n",
            "\u001b[1m322/322\u001b[0m \u001b[32m━━━━━━━━━━━━━━━━━━━━\u001b[0m\u001b[37m\u001b[0m \u001b[1m732s\u001b[0m 2s/step - loss: 0.0795 - mae: 0.0469 - val_loss: 0.0590 - val_mae: 0.0314\n",
            "Epoch 11/20\n",
            "\u001b[1m322/322\u001b[0m \u001b[32m━━━━━━━━━━━━━━━━━━━━\u001b[0m\u001b[37m\u001b[0m \u001b[1m736s\u001b[0m 2s/step - loss: 0.0766 - mae: 0.0451 - val_loss: 0.0685 - val_mae: 0.0413\n",
            "Epoch 12/20\n",
            "\u001b[1m322/322\u001b[0m \u001b[32m━━━━━━━━━━━━━━━━━━━━\u001b[0m\u001b[37m\u001b[0m \u001b[1m678s\u001b[0m 2s/step - loss: 0.0666 - mae: 0.0397 - val_loss: 0.0622 - val_mae: 0.0317\n",
            "Epoch 13/20\n",
            "\u001b[1m322/322\u001b[0m \u001b[32m━━━━━━━━━━━━━━━━━━━━\u001b[0m\u001b[37m\u001b[0m \u001b[1m685s\u001b[0m 2s/step - loss: 0.0693 - mae: 0.0404 - val_loss: 0.0566 - val_mae: 0.0299\n",
            "Epoch 14/20\n",
            "\u001b[1m322/322\u001b[0m \u001b[32m━━━━━━━━━━━━━━━━━━━━\u001b[0m\u001b[37m\u001b[0m \u001b[1m687s\u001b[0m 2s/step - loss: 0.0596 - mae: 0.0356 - val_loss: 0.0604 - val_mae: 0.0341\n",
            "Epoch 15/20\n",
            "\u001b[1m322/322\u001b[0m \u001b[32m━━━━━━━━━━━━━━━━━━━━\u001b[0m\u001b[37m\u001b[0m \u001b[1m680s\u001b[0m 2s/step - loss: 0.0530 - mae: 0.0320 - val_loss: 0.0577 - val_mae: 0.0324\n",
            "Epoch 16/20\n",
            "\u001b[1m322/322\u001b[0m \u001b[32m━━━━━━━━━━━━━━━━━━━━\u001b[0m\u001b[37m\u001b[0m \u001b[1m684s\u001b[0m 2s/step - loss: 0.0614 - mae: 0.0367 - val_loss: 0.0530 - val_mae: 0.0270\n",
            "Epoch 17/20\n",
            "\u001b[1m322/322\u001b[0m \u001b[32m━━━━━━━━━━━━━━━━━━━━\u001b[0m\u001b[37m\u001b[0m \u001b[1m680s\u001b[0m 2s/step - loss: 0.0532 - mae: 0.0319 - val_loss: 0.0508 - val_mae: 0.0256\n",
            "Epoch 18/20\n",
            "\u001b[1m322/322\u001b[0m \u001b[32m━━━━━━━━━━━━━━━━━━━━\u001b[0m\u001b[37m\u001b[0m \u001b[1m678s\u001b[0m 2s/step - loss: 0.0460 - mae: 0.0277 - val_loss: 0.0589 - val_mae: 0.0282\n",
            "Epoch 19/20\n",
            "\u001b[1m322/322\u001b[0m \u001b[32m━━━━━━━━━━━━━━━━━━━━\u001b[0m\u001b[37m\u001b[0m \u001b[1m684s\u001b[0m 2s/step - loss: 0.0387 - mae: 0.0236 - val_loss: 0.0573 - val_mae: 0.0327\n",
            "Epoch 20/20\n",
            "\u001b[1m322/322\u001b[0m \u001b[32m━━━━━━━━━━━━━━━━━━━━\u001b[0m\u001b[37m\u001b[0m \u001b[1m680s\u001b[0m 2s/step - loss: 0.0393 - mae: 0.0240 - val_loss: 0.0549 - val_mae: 0.0269\n"
          ]
        },
        {
          "name": "stderr",
          "output_type": "stream",
          "text": [
            "WARNING:absl:You are saving your model as an HDF5 file via `model.save()` or `keras.saving.save_model(model)`. This file format is considered legacy. We recommend using instead the native Keras format, e.g. `model.save('my_model.keras')` or `keras.saving.save_model(model, 'my_model.keras')`. \n"
          ]
        }
      ],
      "source": [
        "image_folder = \"/content/drive/MyDrive/MLinMed/Data/Practice2/training_set\"\n",
        "\n",
        "# Load dataset\n",
        "X_train, Y_train = load_data(image_folder)\n",
        "\n",
        "# Build and compile model\n",
        "model = build_unet_model()\n",
        "model.compile(optimizer='adam', loss='binary_crossentropy', metrics=['mae'])\n",
        "\n",
        "# Train model\n",
        "model.fit(X_train, Y_train, epochs=20, batch_size=2, validation_split=0.2)\n",
        "\n",
        "# Save trained model\n",
        "model.save(\"/content/drive/MyDrive/MLinMed/Data/Practice2/fetal_head_segmentation_model.h5\")\n",
        "model.save(\"/content/drive/MyDrive/MLinMed/Data/Practice2/fetal_head_segmentation_model.keras\")"
      ]
    },
    {
      "cell_type": "markdown",
      "metadata": {
        "id": "NupCN2HwHpZC"
      },
      "source": [
        "### Segmentation on test_set"
      ]
    },
    {
      "cell_type": "code",
      "execution_count": null,
      "metadata": {
        "id": "FOKffz-gH4_9"
      },
      "outputs": [],
      "source": [
        "def load_test_data(image_folder):\n",
        "    images = []\n",
        "    filenames = []\n",
        "\n",
        "    for file in os.listdir(image_folder):\n",
        "        if file.endswith(\"_HC.png\"):\n",
        "            img_path = os.path.join(image_folder, file)\n",
        "            filenames.append(file)\n",
        "\n",
        "            image = cv2.imread(img_path, cv2.IMREAD_GRAYSCALE)\n",
        "            image = cv2.resize(image, IMG_SIZE)\n",
        "            image = image.astype(np.float32) / 255.0  # Normalize\n",
        "            image = np.expand_dims(image, axis=-1)  # Add channel dimension\n",
        "\n",
        "            images.append(image)\n",
        "\n",
        "    return np.array(images), filenames"
      ]
    },
    {
      "cell_type": "code",
      "execution_count": null,
      "metadata": {
        "id": "9lnL1xRHHvnj"
      },
      "outputs": [],
      "source": [
        "# Function to draw ellipse and find head circumference\n",
        "def find_head_circumference(mask, original_image):\n",
        "    contours, _ = cv2.findContours(mask, cv2.RETR_EXTERNAL, cv2.CHAIN_APPROX_SIMPLE)\n",
        "    if contours:\n",
        "        largest_contour = max(contours, key=cv2.contourArea)\n",
        "        ellipse = cv2.fitEllipse(largest_contour)\n",
        "\n",
        "        # Draw ellipse on original image\n",
        "        output_image = original_image.copy()\n",
        "        cv2.ellipse(output_image, ellipse, (0, 255, 0), 2)\n",
        "\n",
        "        # Calculate major and minor axes\n",
        "        (x, y), (major_axis, minor_axis), angle = ellipse\n",
        "        head_circumference = np.pi * (3 * (major_axis + minor_axis) - np.sqrt((3 * major_axis + minor_axis) * (major_axis + 3 * minor_axis)))\n",
        "\n",
        "        return output_image, head_circumference\n",
        "    return original_image, None"
      ]
    },
    {
      "cell_type": "code",
      "execution_count": null,
      "metadata": {
        "colab": {
          "base_uri": "https://localhost:8080/"
        },
        "id": "-MQuYlerH_TJ",
        "outputId": "c3abe288-e05b-454c-d66f-b30d00fa84b7"
      },
      "outputs": [
        {
          "name": "stderr",
          "output_type": "stream",
          "text": [
            "/usr/local/lib/python3.11/dist-packages/keras/src/saving/saving_lib.py:757: UserWarning: Skipping variable loading for optimizer 'rmsprop', because it has 32 variables whereas the saved optimizer has 62 variables. \n",
            "  saveable.load_own_variables(weights_store.get(inner_path))\n"
          ]
        },
        {
          "name": "stdout",
          "output_type": "stream",
          "text": [
            "\u001b[1m11/11\u001b[0m \u001b[32m━━━━━━━━━━━━━━━━━━━━\u001b[0m\u001b[37m\u001b[0m \u001b[1m95s\u001b[0m 8s/step\n"
          ]
        }
      ],
      "source": [
        "image_folder = \"/content/drive/MyDrive/MLinMed/Data/Practice2/test_set\"\n",
        "\n",
        "# Load test dataset\n",
        "X_test, filenames = load_test_data(image_folder)\n",
        "\n",
        "# Load trained model\n",
        "model = tf.keras.models.load_model(\"/content/drive/MyDrive/MLinMed/Data/Practice2/fetal_head_segmentation_model.keras\")\n",
        "\n",
        "# Predict segmentation masks\n",
        "predicted_masks = model.predict(X_test)\n",
        "predicted_masks = (predicted_masks > 0.5).astype(np.uint8)  # Threshold to binary mask"
      ]
    },
    {
      "cell_type": "code",
      "execution_count": null,
      "metadata": {
        "colab": {
          "base_uri": "https://localhost:8080/",
          "height": 1000
        },
        "id": "u25dQOeWIN8N",
        "outputId": "f584a307-0344-4a29-f08f-84264cd41ec5"
      },
      "outputs": [],
      "source": [
        "for i, filename in enumerate(filenames):\n",
        "    original_image = cv2.imread(os.path.join(image_folder, filename), cv2.IMREAD_GRAYSCALE)\n",
        "    original_image = cv2.resize(original_image, IMG_SIZE)\n",
        "    segmented_mask = predicted_masks[i].squeeze() * 255  # Convert mask to display format\n",
        "\n",
        "    # Draw ellipse and compute head circumference\n",
        "    output_image, head_circumference = find_head_circumference(segmented_mask, original_image)\n",
        "\n",
        "    # Show result\n",
        "    plt.figure(figsize=(10,5))\n",
        "    plt.subplot(1,2,1)\n",
        "    plt.imshow(original_image, cmap='gray')\n",
        "    plt.title(\"Original Image\")\n",
        "\n",
        "    plt.subplot(1,2,2)\n",
        "    plt.imshow(output_image, cmap='gray')\n",
        "    plt.title(f\"Predicted Mask with Ellipse\\nHC: {head_circumference:.2f} mm\" if head_circumference else \"No Ellipse Detected\")\n",
        "\n",
        "    plt.show()"
      ]
    }
  ],
  "metadata": {
    "colab": {
      "provenance": []
    },
    "kernelspec": {
      "display_name": "Python 3",
      "name": "python3"
    },
    "language_info": {
      "name": "python"
    }
  },
  "nbformat": 4,
  "nbformat_minor": 0
}
